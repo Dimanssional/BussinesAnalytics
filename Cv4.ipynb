{
 "cells": [
  {
   "cell_type": "code",
   "execution_count": 2,
   "metadata": {
    "collapsed": true
   },
   "outputs": [],
   "source": [
    "import pandas as pd\n",
    "import numpy as np\n",
    "\n",
    "from IPython.display import display"
   ]
  },
  {
   "cell_type": "code",
   "execution_count": 3,
   "outputs": [
    {
     "data": {
      "text/plain": "           X cas_nakupu produkt    cena krajina quartal  kategoria kluc\n0          1        Jan  Mlieko   3.000      SK      Q1      Jedlo   BA\n1          2        Jan  Tricko  10.000      SK      Q1  Oblecenie   BA\n2          3        Jan  Sveter  25.000      SK      Q1  Oblecenie   BA\n3          4        Jan  Chlieb   2.000      SK      Q1      Jedlo   BA\n4          5        Jan  Mlieko   3.000      SK      Q1      Jedlo   BA\n...      ...        ...     ...     ...     ...     ...        ...  ...\n74995  14996        Jan  Chlieb   1.480      CZ      Q1      Jedlo   OS\n74996  14997        Jan  Mlieko   2.035      CZ      Q1      Jedlo   OS\n74997  14998        Jan  Chlieb   1.480      CZ      Q1      Jedlo   OS\n74998  14999        Jan  Chlieb   1.480      CZ      Q1      Jedlo   OS\n74999  15000        Jan  Chlieb   1.480      CZ      Q1      Jedlo   OS\n\n[75000 rows x 8 columns]",
      "text/html": "<div>\n<style scoped>\n    .dataframe tbody tr th:only-of-type {\n        vertical-align: middle;\n    }\n\n    .dataframe tbody tr th {\n        vertical-align: top;\n    }\n\n    .dataframe thead th {\n        text-align: right;\n    }\n</style>\n<table border=\"1\" class=\"dataframe\">\n  <thead>\n    <tr style=\"text-align: right;\">\n      <th></th>\n      <th>X</th>\n      <th>cas_nakupu</th>\n      <th>produkt</th>\n      <th>cena</th>\n      <th>krajina</th>\n      <th>quartal</th>\n      <th>kategoria</th>\n      <th>kluc</th>\n    </tr>\n  </thead>\n  <tbody>\n    <tr>\n      <th>0</th>\n      <td>1</td>\n      <td>Jan</td>\n      <td>Mlieko</td>\n      <td>3.000</td>\n      <td>SK</td>\n      <td>Q1</td>\n      <td>Jedlo</td>\n      <td>BA</td>\n    </tr>\n    <tr>\n      <th>1</th>\n      <td>2</td>\n      <td>Jan</td>\n      <td>Tricko</td>\n      <td>10.000</td>\n      <td>SK</td>\n      <td>Q1</td>\n      <td>Oblecenie</td>\n      <td>BA</td>\n    </tr>\n    <tr>\n      <th>2</th>\n      <td>3</td>\n      <td>Jan</td>\n      <td>Sveter</td>\n      <td>25.000</td>\n      <td>SK</td>\n      <td>Q1</td>\n      <td>Oblecenie</td>\n      <td>BA</td>\n    </tr>\n    <tr>\n      <th>3</th>\n      <td>4</td>\n      <td>Jan</td>\n      <td>Chlieb</td>\n      <td>2.000</td>\n      <td>SK</td>\n      <td>Q1</td>\n      <td>Jedlo</td>\n      <td>BA</td>\n    </tr>\n    <tr>\n      <th>4</th>\n      <td>5</td>\n      <td>Jan</td>\n      <td>Mlieko</td>\n      <td>3.000</td>\n      <td>SK</td>\n      <td>Q1</td>\n      <td>Jedlo</td>\n      <td>BA</td>\n    </tr>\n    <tr>\n      <th>...</th>\n      <td>...</td>\n      <td>...</td>\n      <td>...</td>\n      <td>...</td>\n      <td>...</td>\n      <td>...</td>\n      <td>...</td>\n      <td>...</td>\n    </tr>\n    <tr>\n      <th>74995</th>\n      <td>14996</td>\n      <td>Jan</td>\n      <td>Chlieb</td>\n      <td>1.480</td>\n      <td>CZ</td>\n      <td>Q1</td>\n      <td>Jedlo</td>\n      <td>OS</td>\n    </tr>\n    <tr>\n      <th>74996</th>\n      <td>14997</td>\n      <td>Jan</td>\n      <td>Mlieko</td>\n      <td>2.035</td>\n      <td>CZ</td>\n      <td>Q1</td>\n      <td>Jedlo</td>\n      <td>OS</td>\n    </tr>\n    <tr>\n      <th>74997</th>\n      <td>14998</td>\n      <td>Jan</td>\n      <td>Chlieb</td>\n      <td>1.480</td>\n      <td>CZ</td>\n      <td>Q1</td>\n      <td>Jedlo</td>\n      <td>OS</td>\n    </tr>\n    <tr>\n      <th>74998</th>\n      <td>14999</td>\n      <td>Jan</td>\n      <td>Chlieb</td>\n      <td>1.480</td>\n      <td>CZ</td>\n      <td>Q1</td>\n      <td>Jedlo</td>\n      <td>OS</td>\n    </tr>\n    <tr>\n      <th>74999</th>\n      <td>15000</td>\n      <td>Jan</td>\n      <td>Chlieb</td>\n      <td>1.480</td>\n      <td>CZ</td>\n      <td>Q1</td>\n      <td>Jedlo</td>\n      <td>OS</td>\n    </tr>\n  </tbody>\n</table>\n<p>75000 rows × 8 columns</p>\n</div>"
     },
     "metadata": {},
     "output_type": "display_data"
    }
   ],
   "source": [
    "predaje = pd.read_csv(\"predaje.csv\")\n",
    "\n",
    "predaje = pd.DataFrame(predaje)\n",
    "display(predaje)"
   ],
   "metadata": {
    "collapsed": false,
    "pycharm": {
     "name": "#%%\n"
    }
   }
  },
  {
   "cell_type": "code",
   "execution_count": 19,
   "outputs": [
    {
     "data": {
      "text/plain": "            cena       \nkrajina       CZ     SK\nprodukt                \nChlieb     1.480    2.0\nLaptop   536.500  540.0\nMlieko     2.035    3.0\nMobil    233.100  230.0\nSveter    22.940   25.0\nTablet   340.400  350.0\nTricko     9.250   10.0",
      "text/html": "<div>\n<style scoped>\n    .dataframe tbody tr th:only-of-type {\n        vertical-align: middle;\n    }\n\n    .dataframe tbody tr th {\n        vertical-align: top;\n    }\n\n    .dataframe thead tr th {\n        text-align: left;\n    }\n\n    .dataframe thead tr:last-of-type th {\n        text-align: right;\n    }\n</style>\n<table border=\"1\" class=\"dataframe\">\n  <thead>\n    <tr>\n      <th></th>\n      <th colspan=\"2\" halign=\"left\">cena</th>\n    </tr>\n    <tr>\n      <th>krajina</th>\n      <th>CZ</th>\n      <th>SK</th>\n    </tr>\n    <tr>\n      <th>produkt</th>\n      <th></th>\n      <th></th>\n    </tr>\n  </thead>\n  <tbody>\n    <tr>\n      <th>Chlieb</th>\n      <td>1.480</td>\n      <td>2.0</td>\n    </tr>\n    <tr>\n      <th>Laptop</th>\n      <td>536.500</td>\n      <td>540.0</td>\n    </tr>\n    <tr>\n      <th>Mlieko</th>\n      <td>2.035</td>\n      <td>3.0</td>\n    </tr>\n    <tr>\n      <th>Mobil</th>\n      <td>233.100</td>\n      <td>230.0</td>\n    </tr>\n    <tr>\n      <th>Sveter</th>\n      <td>22.940</td>\n      <td>25.0</td>\n    </tr>\n    <tr>\n      <th>Tablet</th>\n      <td>340.400</td>\n      <td>350.0</td>\n    </tr>\n    <tr>\n      <th>Tricko</th>\n      <td>9.250</td>\n      <td>10.0</td>\n    </tr>\n  </tbody>\n</table>\n</div>"
     },
     "metadata": {},
     "output_type": "display_data"
    }
   ],
   "source": [
    "pivot1 = pd.pivot_table(predaje, index=[\"produkt\"],\n",
    "                        values=[\"cena\"], columns=[\"krajina\"])\n",
    "display(pivot1)\n",
    "\n"
   ],
   "metadata": {
    "collapsed": false,
    "pycharm": {
     "name": "#%%\n"
    }
   }
  },
  {
   "cell_type": "code",
   "execution_count": 18,
   "outputs": [
    {
     "name": "stdout",
     "output_type": "stream",
     "text": [
      "NaN \n"
     ]
    },
    {
     "data": {
      "text/plain": "          cena                                                                 \\\nkrajina     CZ                                               SK                 \nprodukt Chlieb Laptop Mlieko  Mobil Sveter Tablet Tricko Chlieb Laptop Mlieko   \nkluc                                                                            \nBA         NaN    NaN    NaN    NaN    NaN    NaN    NaN    2.0  540.0    3.0   \nBR        1.48  536.5  2.035  233.1  22.94  340.4   9.25    NaN    NaN    NaN   \nKE         NaN    NaN    NaN    NaN    NaN    NaN    NaN    2.0  540.0    3.0   \nNT         NaN    NaN    NaN    NaN    NaN    NaN    NaN    2.0  540.0    3.0   \nOS        1.48  536.5  2.035  233.1  22.94  340.4   9.25    NaN    NaN    NaN   \n\n                                     \nkrajina                              \nprodukt  Mobil Sveter Tablet Tricko  \nkluc                                 \nBA       230.0   25.0  350.0   10.0  \nBR         NaN    NaN    NaN    NaN  \nKE       230.0   25.0  350.0   10.0  \nNT       230.0   25.0  350.0   10.0  \nOS         NaN    NaN    NaN    NaN  ",
      "text/html": "<div>\n<style scoped>\n    .dataframe tbody tr th:only-of-type {\n        vertical-align: middle;\n    }\n\n    .dataframe tbody tr th {\n        vertical-align: top;\n    }\n\n    .dataframe thead tr th {\n        text-align: left;\n    }\n\n    .dataframe thead tr:last-of-type th {\n        text-align: right;\n    }\n</style>\n<table border=\"1\" class=\"dataframe\">\n  <thead>\n    <tr>\n      <th></th>\n      <th colspan=\"14\" halign=\"left\">cena</th>\n    </tr>\n    <tr>\n      <th>krajina</th>\n      <th colspan=\"7\" halign=\"left\">CZ</th>\n      <th colspan=\"7\" halign=\"left\">SK</th>\n    </tr>\n    <tr>\n      <th>produkt</th>\n      <th>Chlieb</th>\n      <th>Laptop</th>\n      <th>Mlieko</th>\n      <th>Mobil</th>\n      <th>Sveter</th>\n      <th>Tablet</th>\n      <th>Tricko</th>\n      <th>Chlieb</th>\n      <th>Laptop</th>\n      <th>Mlieko</th>\n      <th>Mobil</th>\n      <th>Sveter</th>\n      <th>Tablet</th>\n      <th>Tricko</th>\n    </tr>\n    <tr>\n      <th>kluc</th>\n      <th></th>\n      <th></th>\n      <th></th>\n      <th></th>\n      <th></th>\n      <th></th>\n      <th></th>\n      <th></th>\n      <th></th>\n      <th></th>\n      <th></th>\n      <th></th>\n      <th></th>\n      <th></th>\n    </tr>\n  </thead>\n  <tbody>\n    <tr>\n      <th>BA</th>\n      <td>NaN</td>\n      <td>NaN</td>\n      <td>NaN</td>\n      <td>NaN</td>\n      <td>NaN</td>\n      <td>NaN</td>\n      <td>NaN</td>\n      <td>2.0</td>\n      <td>540.0</td>\n      <td>3.0</td>\n      <td>230.0</td>\n      <td>25.0</td>\n      <td>350.0</td>\n      <td>10.0</td>\n    </tr>\n    <tr>\n      <th>BR</th>\n      <td>1.48</td>\n      <td>536.5</td>\n      <td>2.035</td>\n      <td>233.1</td>\n      <td>22.94</td>\n      <td>340.4</td>\n      <td>9.25</td>\n      <td>NaN</td>\n      <td>NaN</td>\n      <td>NaN</td>\n      <td>NaN</td>\n      <td>NaN</td>\n      <td>NaN</td>\n      <td>NaN</td>\n    </tr>\n    <tr>\n      <th>KE</th>\n      <td>NaN</td>\n      <td>NaN</td>\n      <td>NaN</td>\n      <td>NaN</td>\n      <td>NaN</td>\n      <td>NaN</td>\n      <td>NaN</td>\n      <td>2.0</td>\n      <td>540.0</td>\n      <td>3.0</td>\n      <td>230.0</td>\n      <td>25.0</td>\n      <td>350.0</td>\n      <td>10.0</td>\n    </tr>\n    <tr>\n      <th>NT</th>\n      <td>NaN</td>\n      <td>NaN</td>\n      <td>NaN</td>\n      <td>NaN</td>\n      <td>NaN</td>\n      <td>NaN</td>\n      <td>NaN</td>\n      <td>2.0</td>\n      <td>540.0</td>\n      <td>3.0</td>\n      <td>230.0</td>\n      <td>25.0</td>\n      <td>350.0</td>\n      <td>10.0</td>\n    </tr>\n    <tr>\n      <th>OS</th>\n      <td>1.48</td>\n      <td>536.5</td>\n      <td>2.035</td>\n      <td>233.1</td>\n      <td>22.94</td>\n      <td>340.4</td>\n      <td>9.25</td>\n      <td>NaN</td>\n      <td>NaN</td>\n      <td>NaN</td>\n      <td>NaN</td>\n      <td>NaN</td>\n      <td>NaN</td>\n      <td>NaN</td>\n    </tr>\n  </tbody>\n</table>\n</div>"
     },
     "metadata": {},
     "output_type": "display_data"
    }
   ],
   "source": [
    "pivot2 = pd.pivot_table(predaje, index=[\"kluc\"], values=[\"cena\"],\n",
    "                        columns=[\"krajina\", \"produkt\"], observed=True)\n",
    "display(pivot2)"
   ],
   "metadata": {
    "collapsed": false,
    "pycharm": {
     "name": "#%%\n"
    }
   }
  },
  {
   "cell_type": "code",
   "execution_count": 35,
   "outputs": [
    {
     "data": {
      "text/plain": "                 X                                                             \\\nkrajina         CZ                                     SK                       \nkategoria  Elektro     Jedlo       Oblecenie      Elektro          Jedlo        \nkluc            BR  OS    BR    OS        BR   OS      BA   KE  NT    BA   KE   \ncas_nakupu                                                                      \nApr             41  65  1195   931       140  193      95  148  20  1114  854   \nAug             33  72  1225   989       180  214      84  162  22  1236  903   \nDec             31  66  1192  1039       180  228      98  136  31  1152  957   \nFeb             46  74  1097   923       163  188      70  134  24  1056  763   \nJan             39  90  1250  1039       186  221      80  159  27  1248  950   \nJul             40  91  1244   976       176  214      74  144  26  1197  948   \nJun             48  65  1225   994       157  188      99  133  30  1174  898   \nMaj             38  73  1237   971       144  205      74  162  20  1234  924   \nMar             36  72  1227   945       150  222      76  170  29  1151  888   \nNov             42  80  1187   980       166  206      75  143  29  1161  841   \nOkt             43  68  1255   927       180  173      76  172  29  1147  919   \nSep             42  71  1214   975       151  172     100  189  18  1150  845   \n\n                                     \nkrajina                              \nkategoria       Oblecenie            \nkluc         NT        BA   KE   NT  \ncas_nakupu                           \nApr         705       257  198   88  \nAug         693       239  217  100  \nDec         726       264  254   87  \nFeb         688       211  190  121  \nJan         731       266  206  114  \nJul         742       242  202  107  \nJun         668       229  188   89  \nMaj         720       267  220   84  \nMar         756       259  203   93  \nNov         681       236  217   88  \nOkt         714       262  185   99  \nSep         693       247  178  108  ",
      "text/html": "<div>\n<style scoped>\n    .dataframe tbody tr th:only-of-type {\n        vertical-align: middle;\n    }\n\n    .dataframe tbody tr th {\n        vertical-align: top;\n    }\n\n    .dataframe thead tr th {\n        text-align: left;\n    }\n\n    .dataframe thead tr:last-of-type th {\n        text-align: right;\n    }\n</style>\n<table border=\"1\" class=\"dataframe\">\n  <thead>\n    <tr>\n      <th></th>\n      <th colspan=\"15\" halign=\"left\">X</th>\n    </tr>\n    <tr>\n      <th>krajina</th>\n      <th colspan=\"6\" halign=\"left\">CZ</th>\n      <th colspan=\"9\" halign=\"left\">SK</th>\n    </tr>\n    <tr>\n      <th>kategoria</th>\n      <th colspan=\"2\" halign=\"left\">Elektro</th>\n      <th colspan=\"2\" halign=\"left\">Jedlo</th>\n      <th colspan=\"2\" halign=\"left\">Oblecenie</th>\n      <th colspan=\"3\" halign=\"left\">Elektro</th>\n      <th colspan=\"3\" halign=\"left\">Jedlo</th>\n      <th colspan=\"3\" halign=\"left\">Oblecenie</th>\n    </tr>\n    <tr>\n      <th>kluc</th>\n      <th>BR</th>\n      <th>OS</th>\n      <th>BR</th>\n      <th>OS</th>\n      <th>BR</th>\n      <th>OS</th>\n      <th>BA</th>\n      <th>KE</th>\n      <th>NT</th>\n      <th>BA</th>\n      <th>KE</th>\n      <th>NT</th>\n      <th>BA</th>\n      <th>KE</th>\n      <th>NT</th>\n    </tr>\n    <tr>\n      <th>cas_nakupu</th>\n      <th></th>\n      <th></th>\n      <th></th>\n      <th></th>\n      <th></th>\n      <th></th>\n      <th></th>\n      <th></th>\n      <th></th>\n      <th></th>\n      <th></th>\n      <th></th>\n      <th></th>\n      <th></th>\n      <th></th>\n    </tr>\n  </thead>\n  <tbody>\n    <tr>\n      <th>Apr</th>\n      <td>41</td>\n      <td>65</td>\n      <td>1195</td>\n      <td>931</td>\n      <td>140</td>\n      <td>193</td>\n      <td>95</td>\n      <td>148</td>\n      <td>20</td>\n      <td>1114</td>\n      <td>854</td>\n      <td>705</td>\n      <td>257</td>\n      <td>198</td>\n      <td>88</td>\n    </tr>\n    <tr>\n      <th>Aug</th>\n      <td>33</td>\n      <td>72</td>\n      <td>1225</td>\n      <td>989</td>\n      <td>180</td>\n      <td>214</td>\n      <td>84</td>\n      <td>162</td>\n      <td>22</td>\n      <td>1236</td>\n      <td>903</td>\n      <td>693</td>\n      <td>239</td>\n      <td>217</td>\n      <td>100</td>\n    </tr>\n    <tr>\n      <th>Dec</th>\n      <td>31</td>\n      <td>66</td>\n      <td>1192</td>\n      <td>1039</td>\n      <td>180</td>\n      <td>228</td>\n      <td>98</td>\n      <td>136</td>\n      <td>31</td>\n      <td>1152</td>\n      <td>957</td>\n      <td>726</td>\n      <td>264</td>\n      <td>254</td>\n      <td>87</td>\n    </tr>\n    <tr>\n      <th>Feb</th>\n      <td>46</td>\n      <td>74</td>\n      <td>1097</td>\n      <td>923</td>\n      <td>163</td>\n      <td>188</td>\n      <td>70</td>\n      <td>134</td>\n      <td>24</td>\n      <td>1056</td>\n      <td>763</td>\n      <td>688</td>\n      <td>211</td>\n      <td>190</td>\n      <td>121</td>\n    </tr>\n    <tr>\n      <th>Jan</th>\n      <td>39</td>\n      <td>90</td>\n      <td>1250</td>\n      <td>1039</td>\n      <td>186</td>\n      <td>221</td>\n      <td>80</td>\n      <td>159</td>\n      <td>27</td>\n      <td>1248</td>\n      <td>950</td>\n      <td>731</td>\n      <td>266</td>\n      <td>206</td>\n      <td>114</td>\n    </tr>\n    <tr>\n      <th>Jul</th>\n      <td>40</td>\n      <td>91</td>\n      <td>1244</td>\n      <td>976</td>\n      <td>176</td>\n      <td>214</td>\n      <td>74</td>\n      <td>144</td>\n      <td>26</td>\n      <td>1197</td>\n      <td>948</td>\n      <td>742</td>\n      <td>242</td>\n      <td>202</td>\n      <td>107</td>\n    </tr>\n    <tr>\n      <th>Jun</th>\n      <td>48</td>\n      <td>65</td>\n      <td>1225</td>\n      <td>994</td>\n      <td>157</td>\n      <td>188</td>\n      <td>99</td>\n      <td>133</td>\n      <td>30</td>\n      <td>1174</td>\n      <td>898</td>\n      <td>668</td>\n      <td>229</td>\n      <td>188</td>\n      <td>89</td>\n    </tr>\n    <tr>\n      <th>Maj</th>\n      <td>38</td>\n      <td>73</td>\n      <td>1237</td>\n      <td>971</td>\n      <td>144</td>\n      <td>205</td>\n      <td>74</td>\n      <td>162</td>\n      <td>20</td>\n      <td>1234</td>\n      <td>924</td>\n      <td>720</td>\n      <td>267</td>\n      <td>220</td>\n      <td>84</td>\n    </tr>\n    <tr>\n      <th>Mar</th>\n      <td>36</td>\n      <td>72</td>\n      <td>1227</td>\n      <td>945</td>\n      <td>150</td>\n      <td>222</td>\n      <td>76</td>\n      <td>170</td>\n      <td>29</td>\n      <td>1151</td>\n      <td>888</td>\n      <td>756</td>\n      <td>259</td>\n      <td>203</td>\n      <td>93</td>\n    </tr>\n    <tr>\n      <th>Nov</th>\n      <td>42</td>\n      <td>80</td>\n      <td>1187</td>\n      <td>980</td>\n      <td>166</td>\n      <td>206</td>\n      <td>75</td>\n      <td>143</td>\n      <td>29</td>\n      <td>1161</td>\n      <td>841</td>\n      <td>681</td>\n      <td>236</td>\n      <td>217</td>\n      <td>88</td>\n    </tr>\n    <tr>\n      <th>Okt</th>\n      <td>43</td>\n      <td>68</td>\n      <td>1255</td>\n      <td>927</td>\n      <td>180</td>\n      <td>173</td>\n      <td>76</td>\n      <td>172</td>\n      <td>29</td>\n      <td>1147</td>\n      <td>919</td>\n      <td>714</td>\n      <td>262</td>\n      <td>185</td>\n      <td>99</td>\n    </tr>\n    <tr>\n      <th>Sep</th>\n      <td>42</td>\n      <td>71</td>\n      <td>1214</td>\n      <td>975</td>\n      <td>151</td>\n      <td>172</td>\n      <td>100</td>\n      <td>189</td>\n      <td>18</td>\n      <td>1150</td>\n      <td>845</td>\n      <td>693</td>\n      <td>247</td>\n      <td>178</td>\n      <td>108</td>\n    </tr>\n  </tbody>\n</table>\n</div>"
     },
     "metadata": {},
     "output_type": "display_data"
    }
   ],
   "source": [
    "pivot3 = pd.pivot_table(predaje, index=[\"cas_nakupu\"], values=[\"X\"],\n",
    "                        columns=[\"krajina\", \"kategoria\", \"kluc\"], aggfunc=len)\n",
    "\n",
    "display(pivot3)"
   ],
   "metadata": {
    "collapsed": false,
    "pycharm": {
     "name": "#%%\n"
    }
   }
  }
 ],
 "metadata": {
  "kernelspec": {
   "name": "pycharm-d290e992",
   "language": "python",
   "display_name": "PyCharm (cvv)"
  },
  "language_info": {
   "codemirror_mode": {
    "name": "ipython",
    "version": 2
   },
   "file_extension": ".py",
   "mimetype": "text/x-python",
   "name": "python",
   "nbconvert_exporter": "python",
   "pygments_lexer": "ipython2",
   "version": "2.7.6"
  }
 },
 "nbformat": 4,
 "nbformat_minor": 0
}