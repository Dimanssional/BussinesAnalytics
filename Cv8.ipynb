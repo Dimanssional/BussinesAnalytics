{
 "cells": [
  {
   "cell_type": "code",
   "execution_count": 1,
   "metadata": {
    "collapsed": true
   },
   "outputs": [],
   "source": [
    "import pandas as pd\n",
    "from scipy.cluster.hierarchy import dendrogram, linkage\n",
    "\n",
    "from sklearn.cluster import KMeans, AgglomerativeClustering\n",
    "from sklearn.metrics import confusion_matrix\n",
    "\n",
    "from apyori import apriori\n",
    "\n",
    "import matplotlib.pyplot as plt\n",
    "import seaborn as sns\n",
    "from IPython.display import display\n"
   ]
  },
  {
   "cell_type": "code",
   "execution_count": 2,
   "outputs": [],
   "source": [
    "sns.set_style(\"darkgrid\")\n"
   ],
   "metadata": {
    "collapsed": false,
    "pycharm": {
     "name": "#%%\n"
    }
   }
  },
  {
   "cell_type": "code",
   "execution_count": 3,
   "outputs": [
    {
     "data": {
      "text/plain": "                      hp  drat\nMazda RX4            110  3.90\nMazda RX4 Wag        110  3.90\nDatsun 710            93  3.85\nHornet 4 Drive       110  3.08\nHornet Sportabout    175  3.15\nValiant              105  2.76\nDuster 360           245  3.21\nMerc 240D             62  3.69\nMerc 230              95  3.92\nMerc 280             123  3.92\nMerc 280C            123  3.92\nMerc 450SE           180  3.07\nMerc 450SL           180  3.07\nMerc 450SLC          180  3.07\nCadillac Fleetwood   205  2.93\nLincoln Continental  215  3.00\nChrysler Imperial    230  3.23\nFiat 128              66  4.08\nHonda Civic           52  4.93\nToyota Corolla        65  4.22\nToyota Corona         97  3.70\nDodge Challenger     150  2.76\nAMC Javelin          150  3.15\nCamaro Z28           245  3.73\nPontiac Firebird     175  3.08\nFiat X1-9             66  4.08\nPorsche 914-2         91  4.43\nLotus Europa         113  3.77\nFord Pantera L       264  4.22\nFerrari Dino         175  3.62\nMaserati Bora        335  3.54\nVolvo 142E           109  4.11",
      "text/html": "<div>\n<style scoped>\n    .dataframe tbody tr th:only-of-type {\n        vertical-align: middle;\n    }\n\n    .dataframe tbody tr th {\n        vertical-align: top;\n    }\n\n    .dataframe thead th {\n        text-align: right;\n    }\n</style>\n<table border=\"1\" class=\"dataframe\">\n  <thead>\n    <tr style=\"text-align: right;\">\n      <th></th>\n      <th>hp</th>\n      <th>drat</th>\n    </tr>\n  </thead>\n  <tbody>\n    <tr>\n      <th>Mazda RX4</th>\n      <td>110</td>\n      <td>3.90</td>\n    </tr>\n    <tr>\n      <th>Mazda RX4 Wag</th>\n      <td>110</td>\n      <td>3.90</td>\n    </tr>\n    <tr>\n      <th>Datsun 710</th>\n      <td>93</td>\n      <td>3.85</td>\n    </tr>\n    <tr>\n      <th>Hornet 4 Drive</th>\n      <td>110</td>\n      <td>3.08</td>\n    </tr>\n    <tr>\n      <th>Hornet Sportabout</th>\n      <td>175</td>\n      <td>3.15</td>\n    </tr>\n    <tr>\n      <th>Valiant</th>\n      <td>105</td>\n      <td>2.76</td>\n    </tr>\n    <tr>\n      <th>Duster 360</th>\n      <td>245</td>\n      <td>3.21</td>\n    </tr>\n    <tr>\n      <th>Merc 240D</th>\n      <td>62</td>\n      <td>3.69</td>\n    </tr>\n    <tr>\n      <th>Merc 230</th>\n      <td>95</td>\n      <td>3.92</td>\n    </tr>\n    <tr>\n      <th>Merc 280</th>\n      <td>123</td>\n      <td>3.92</td>\n    </tr>\n    <tr>\n      <th>Merc 280C</th>\n      <td>123</td>\n      <td>3.92</td>\n    </tr>\n    <tr>\n      <th>Merc 450SE</th>\n      <td>180</td>\n      <td>3.07</td>\n    </tr>\n    <tr>\n      <th>Merc 450SL</th>\n      <td>180</td>\n      <td>3.07</td>\n    </tr>\n    <tr>\n      <th>Merc 450SLC</th>\n      <td>180</td>\n      <td>3.07</td>\n    </tr>\n    <tr>\n      <th>Cadillac Fleetwood</th>\n      <td>205</td>\n      <td>2.93</td>\n    </tr>\n    <tr>\n      <th>Lincoln Continental</th>\n      <td>215</td>\n      <td>3.00</td>\n    </tr>\n    <tr>\n      <th>Chrysler Imperial</th>\n      <td>230</td>\n      <td>3.23</td>\n    </tr>\n    <tr>\n      <th>Fiat 128</th>\n      <td>66</td>\n      <td>4.08</td>\n    </tr>\n    <tr>\n      <th>Honda Civic</th>\n      <td>52</td>\n      <td>4.93</td>\n    </tr>\n    <tr>\n      <th>Toyota Corolla</th>\n      <td>65</td>\n      <td>4.22</td>\n    </tr>\n    <tr>\n      <th>Toyota Corona</th>\n      <td>97</td>\n      <td>3.70</td>\n    </tr>\n    <tr>\n      <th>Dodge Challenger</th>\n      <td>150</td>\n      <td>2.76</td>\n    </tr>\n    <tr>\n      <th>AMC Javelin</th>\n      <td>150</td>\n      <td>3.15</td>\n    </tr>\n    <tr>\n      <th>Camaro Z28</th>\n      <td>245</td>\n      <td>3.73</td>\n    </tr>\n    <tr>\n      <th>Pontiac Firebird</th>\n      <td>175</td>\n      <td>3.08</td>\n    </tr>\n    <tr>\n      <th>Fiat X1-9</th>\n      <td>66</td>\n      <td>4.08</td>\n    </tr>\n    <tr>\n      <th>Porsche 914-2</th>\n      <td>91</td>\n      <td>4.43</td>\n    </tr>\n    <tr>\n      <th>Lotus Europa</th>\n      <td>113</td>\n      <td>3.77</td>\n    </tr>\n    <tr>\n      <th>Ford Pantera L</th>\n      <td>264</td>\n      <td>4.22</td>\n    </tr>\n    <tr>\n      <th>Ferrari Dino</th>\n      <td>175</td>\n      <td>3.62</td>\n    </tr>\n    <tr>\n      <th>Maserati Bora</th>\n      <td>335</td>\n      <td>3.54</td>\n    </tr>\n    <tr>\n      <th>Volvo 142E</th>\n      <td>109</td>\n      <td>4.11</td>\n    </tr>\n  </tbody>\n</table>\n</div>"
     },
     "metadata": {},
     "output_type": "display_data"
    }
   ],
   "source": [
    "mtcars = pd.DataFrame(pd.read_csv(\"mtcars.csv\", delimiter=\",\"))\n",
    "\n",
    "mtcars = mtcars.rename(index = mtcars.iloc[:, 0])\n",
    "del mtcars[\"Unnamed: 0\"]\n",
    "\n",
    "mtcars1 = mtcars.copy()\n",
    "mtcars1 = mtcars.iloc[:, 3:5]\n",
    "display(mtcars1)\n"
   ],
   "metadata": {
    "collapsed": false,
    "pycharm": {
     "name": "#%%\n"
    }
   }
  },
  {
   "cell_type": "code",
   "execution_count": 4,
   "outputs": [
    {
     "name": "stdout",
     "output_type": "stream",
     "text": [
      "[[ 5 13]\n",
      " [14  0]]\n"
     ]
    }
   ],
   "source": [
    "def doKmeans(X, nclust=2):\n",
    "    model = KMeans(nclust)\n",
    "    model.fit(X)\n",
    "    clust_labels = model.predict(X)\n",
    "    cent = model.cluster_centers_\n",
    "    return (clust_labels, cent)\n",
    "\n",
    "kmeans_result1, centers = doKmeans(mtcars1)\n",
    "print(confusion_matrix(mtcars[\"vs\"], kmeans_result1))"
   ],
   "metadata": {
    "collapsed": false,
    "pycharm": {
     "name": "#%%\n"
    }
   }
  },
  {
   "cell_type": "code",
   "execution_count": 5,
   "outputs": [
    {
     "data": {
      "text/plain": "<Figure size 432x288 with 1 Axes>",
      "image/png": "[encoded data removed]"
     },
     "metadata": {},
     "output_type": "display_data"
    }
   ],
   "source": [
    "def color_code(targets):\n",
    "    code = {\n",
    "        0: 'purple',\n",
    "        1: 'yellow',\n",
    "    }\n",
    "\n",
    "    return [code[target] for target in targets]\n",
    "\n",
    "\n",
    "plt.scatter(mtcars1[\"hp\"], mtcars1[\"drat\"], c=color_code(kmeans_result1))\n",
    "plt.plot(centers[:, 0], centers[:, 1], '*r')\n",
    "plt.show()"
   ],
   "metadata": {
    "collapsed": false,
    "pycharm": {
     "name": "#%%\n"
    }
   }
  },
  {
   "cell_type": "code",
   "execution_count": 6,
   "outputs": [
    {
     "data": {
      "text/plain": "<Figure size 1080x720 with 1 Axes>",
      "image/png": "[encoded data removed]"
     },
     "metadata": {},
     "output_type": "display_data"
    }
   ],
   "source": [
    "mtcars2 = mtcars[[\"mpg\", \"qsec\"]]\n",
    "\n",
    "hc2 = AgglomerativeClustering(linkage=\"average\", n_clusters=3).fit(mtcars2)\n",
    "mtcars[\"groups\"] = hc2.labels_\n",
    "\n",
    "plt.figure(figsize=(15, 10))\n",
    "dend = dendrogram(linkage(mtcars2, method='average'), color_threshold=6)\n"
   ],
   "metadata": {
    "collapsed": false,
    "pycharm": {
     "name": "#%%\n"
    }
   }
  },
  {
   "cell_type": "code",
   "execution_count": 7,
   "outputs": [
    {
     "name": "stderr",
     "output_type": "stream",
     "text": [
      "C:\\Users\\root\\anaconda3\\lib\\site-packages\\IPython\\core\\interactiveshell.py:3071: DtypeWarning: Columns (15) have mixed types.Specify dtype option on import or set low_memory=False.\n",
      "  has_raised = await self.run_ast_nodes(code_ast.body, cell_name,\n"
     ]
    },
    {
     "data": {
      "text/plain": "              workclass  education      marital-status         occupation  \\\n1             State-gov  Bachelors       Never-married       Adm-clerical   \n2      Self-emp-not-inc  Bachelors  Married-civ-spouse    Exec-managerial   \n3               Private    HS-grad            Divorced  Handlers-cleaners   \n4               Private       11th  Married-civ-spouse  Handlers-cleaners   \n5               Private  Bachelors  Married-civ-spouse     Prof-specialty   \n...                 ...        ...                 ...                ...   \n48838           Private  Bachelors            Divorced     Prof-specialty   \n48839               NaN    HS-grad             Widowed                NaN   \n48840           Private  Bachelors  Married-civ-spouse     Prof-specialty   \n48841           Private  Bachelors            Divorced       Adm-clerical   \n48842      Self-emp-inc  Bachelors  Married-civ-spouse    Exec-managerial   \n\n         relationship                race     sex native-country income  \n1       Not-in-family               White    Male  United-States  small  \n2             Husband               White    Male  United-States  small  \n3       Not-in-family               White    Male  United-States  small  \n4             Husband               Black    Male  United-States  small  \n5                Wife               Black  Female           Cuba  small  \n...               ...                 ...     ...            ...    ...  \n48838   Not-in-family               White  Female  United-States    NaN  \n48839  Other-relative               Black    Male  United-States    NaN  \n48840         Husband               White    Male  United-States    NaN  \n48841       Own-child  Asian-Pac-Islander    Male  United-States    NaN  \n48842         Husband               White    Male  United-States    NaN  \n\n[48842 rows x 9 columns]",
      "text/html": "<div>\n<style scoped>\n    .dataframe tbody tr th:only-of-type {\n        vertical-align: middle;\n    }\n\n    .dataframe tbody tr th {\n        vertical-align: top;\n    }\n\n    .dataframe thead th {\n        text-align: right;\n    }\n</style>\n<table border=\"1\" class=\"dataframe\">\n  <thead>\n    <tr style=\"text-align: right;\">\n      <th></th>\n      <th>workclass</th>\n      <th>education</th>\n      <th>marital-status</th>\n      <th>occupation</th>\n      <th>relationship</th>\n      <th>race</th>\n      <th>sex</th>\n      <th>native-country</th>\n      <th>income</th>\n    </tr>\n  </thead>\n  <tbody>\n    <tr>\n      <th>1</th>\n      <td>State-gov</td>\n      <td>Bachelors</td>\n      <td>Never-married</td>\n      <td>Adm-clerical</td>\n      <td>Not-in-family</td>\n      <td>White</td>\n      <td>Male</td>\n      <td>United-States</td>\n      <td>small</td>\n    </tr>\n    <tr>\n      <th>2</th>\n      <td>Self-emp-not-inc</td>\n      <td>Bachelors</td>\n      <td>Married-civ-spouse</td>\n      <td>Exec-managerial</td>\n      <td>Husband</td>\n      <td>White</td>\n      <td>Male</td>\n      <td>United-States</td>\n      <td>small</td>\n    </tr>\n    <tr>\n      <th>3</th>\n      <td>Private</td>\n      <td>HS-grad</td>\n      <td>Divorced</td>\n      <td>Handlers-cleaners</td>\n      <td>Not-in-family</td>\n      <td>White</td>\n      <td>Male</td>\n      <td>United-States</td>\n      <td>small</td>\n    </tr>\n    <tr>\n      <th>4</th>\n      <td>Private</td>\n      <td>11th</td>\n      <td>Married-civ-spouse</td>\n      <td>Handlers-cleaners</td>\n      <td>Husband</td>\n      <td>Black</td>\n      <td>Male</td>\n      <td>United-States</td>\n      <td>small</td>\n    </tr>\n    <tr>\n      <th>5</th>\n      <td>Private</td>\n      <td>Bachelors</td>\n      <td>Married-civ-spouse</td>\n      <td>Prof-specialty</td>\n      <td>Wife</td>\n      <td>Black</td>\n      <td>Female</td>\n      <td>Cuba</td>\n      <td>small</td>\n    </tr>\n    <tr>\n      <th>...</th>\n      <td>...</td>\n      <td>...</td>\n      <td>...</td>\n      <td>...</td>\n      <td>...</td>\n      <td>...</td>\n      <td>...</td>\n      <td>...</td>\n      <td>...</td>\n    </tr>\n    <tr>\n      <th>48838</th>\n      <td>Private</td>\n      <td>Bachelors</td>\n      <td>Divorced</td>\n      <td>Prof-specialty</td>\n      <td>Not-in-family</td>\n      <td>White</td>\n      <td>Female</td>\n      <td>United-States</td>\n      <td>NaN</td>\n    </tr>\n    <tr>\n      <th>48839</th>\n      <td>NaN</td>\n      <td>HS-grad</td>\n      <td>Widowed</td>\n      <td>NaN</td>\n      <td>Other-relative</td>\n      <td>Black</td>\n      <td>Male</td>\n      <td>United-States</td>\n      <td>NaN</td>\n    </tr>\n    <tr>\n      <th>48840</th>\n      <td>Private</td>\n      <td>Bachelors</td>\n      <td>Married-civ-spouse</td>\n      <td>Prof-specialty</td>\n      <td>Husband</td>\n      <td>White</td>\n      <td>Male</td>\n      <td>United-States</td>\n      <td>NaN</td>\n    </tr>\n    <tr>\n      <th>48841</th>\n      <td>Private</td>\n      <td>Bachelors</td>\n      <td>Divorced</td>\n      <td>Adm-clerical</td>\n      <td>Own-child</td>\n      <td>Asian-Pac-Islander</td>\n      <td>Male</td>\n      <td>United-States</td>\n      <td>NaN</td>\n    </tr>\n    <tr>\n      <th>48842</th>\n      <td>Self-emp-inc</td>\n      <td>Bachelors</td>\n      <td>Married-civ-spouse</td>\n      <td>Exec-managerial</td>\n      <td>Husband</td>\n      <td>White</td>\n      <td>Male</td>\n      <td>United-States</td>\n      <td>NaN</td>\n    </tr>\n  </tbody>\n</table>\n<p>48842 rows × 9 columns</p>\n</div>"
     },
     "metadata": {},
     "output_type": "display_data"
    }
   ],
   "source": [
    "AdultUCI = pd.DataFrame(pd.read_csv(\"AdultUCI.csv\"))\n",
    "\n",
    "\n",
    "AdultUCI = AdultUCI.rename(index = AdultUCI.iloc[:, 0])\n",
    "del AdultUCI[\"Unnamed: 0\"]\n",
    "\n",
    "\n",
    "AdultUCI1 = AdultUCI.select_dtypes(include=\"object\")\n",
    "AdultUCI1 = AdultUCI1.astype('category')\n",
    "display(AdultUCI1)\n"
   ],
   "metadata": {
    "collapsed": false,
    "pycharm": {
     "name": "#%%\n"
    }
   }
  },
  {
   "cell_type": "code",
   "execution_count": 8,
   "outputs": [
    {
     "name": "stdout",
     "output_type": "stream",
     "text": [
      "6917\n",
      "RelationRecord(items=frozenset({'-', 'a'}), support=0.2222222222222222, ordered_statistics=[OrderedStatistic(items_base=frozenset({'-'}), items_add=frozenset({'a'}), confidence=1.0, lift=1.2857142857142856)])\n",
      "False\n"
     ]
    }
   ],
   "source": [
    "rules1 = apriori(AdultUCI1, min_support=0.01, use_colnames=True, min_confidence=0.68,\n",
    "                 min_length=4)\n",
    "\n",
    "rules1_sorted = list(rules1)\n",
    "print(len(rules1_sorted))\n",
    "\n",
    "print(rules1_sorted[1])\n",
    "contains_duplicates = any(rules1_sorted.count(element) > 1 for element in rules1_sorted)\n",
    "\n",
    "print(contains_duplicates)\n",
    "\n",
    "rules1_sorted.sort(key = lambda rules1_sorted: rules1_sorted[2])\n"
   ],
   "metadata": {
    "collapsed": false,
    "pycharm": {
     "name": "#%%\n"
    }
   }
  }
 ],
 "metadata": {
  "kernelspec": {
   "name": "pycharm-d290e992",
   "language": "python",
   "display_name": "PyCharm (cvv)"
  },
  "language_info": {
   "codemirror_mode": {
    "name": "ipython",
    "version": 2
   },
   "file_extension": ".py",
   "mimetype": "text/x-python",
   "name": "python",
   "nbconvert_exporter": "python",
   "pygments_lexer": "ipython2",
   "version": "2.7.6"
  }
 },
 "nbformat": 4,
 "nbformat_minor": 0
}